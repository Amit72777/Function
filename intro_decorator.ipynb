{
 "cells": [
  {
   "cell_type": "code",
   "execution_count": 2,
   "metadata": {},
   "outputs": [],
   "source": [
    "def decorator_fun(my_fun):\n",
    "    def add_featurn():\n",
    "        print(\"This is special featurne \")\n",
    "        my_fun()\n",
    "        return\n",
    "    return add_featurn\n"
   ]
  },
  {
   "cell_type": "code",
   "execution_count": 3,
   "metadata": {},
   "outputs": [],
   "source": [
    "def func2(): # creat a function \n",
    "    print(\"this is funciton 2 \")\n",
    "    "
   ]
  },
  {
   "cell_type": "code",
   "execution_count": 4,
   "metadata": {},
   "outputs": [
    {
     "name": "stdout",
     "output_type": "stream",
     "text": [
      "This is special featurne \n",
      "this is funciton 2 \n"
     ]
    }
   ],
   "source": [
    "var = decorator_fun(func2)\n",
    "var() #  assigning a additional feature in func2()"
   ]
  },
  {
   "cell_type": "code",
   "execution_count": 5,
   "metadata": {},
   "outputs": [],
   "source": [
    "@decorator_fun # using shortcut for assigning a fucntion for correction \n",
    "def func1():\n",
    "    print(\"This is function 1 \")\n",
    "    "
   ]
  },
  {
   "cell_type": "code",
   "execution_count": 7,
   "metadata": {},
   "outputs": [
    {
     "name": "stdout",
     "output_type": "stream",
     "text": [
      "This is special featurne \n",
      "This is function 1 \n"
     ]
    }
   ],
   "source": [
    "func1()"
   ]
  },
  {
   "cell_type": "code",
   "execution_count": 9,
   "metadata": {},
   "outputs": [],
   "source": [
    "def decorator_fun1(my_fun):\n",
    "    def add_featurn(*args,**kwargs ):   # using *args and **kwargs for passing the parrameter in function \n",
    "        print(\"This is special feature  \")\n",
    "        my_fun(*args,**kwargs)\n",
    "        return\n",
    "    return add_featurn\n"
   ]
  },
  {
   "cell_type": "code",
   "execution_count": 10,
   "metadata": {},
   "outputs": [],
   "source": [
    "@decorator_fun1 # shortcut for assigning decorator \n",
    "def func3(x): \n",
    "    print(f\" This funciton in argument is {x}\")"
   ]
  },
  {
   "cell_type": "code",
   "execution_count": 12,
   "metadata": {},
   "outputs": [
    {
     "name": "stdout",
     "output_type": "stream",
     "text": [
      "This is special featurne \n",
      " This funciton in argument is 8\n"
     ]
    }
   ],
   "source": [
    "func3(8)  # calling a funcion "
   ]
  },
  {
   "cell_type": "code",
   "execution_count": null,
   "metadata": {},
   "outputs": [],
   "source": []
  },
  {
   "cell_type": "code",
   "execution_count": 23,
   "metadata": {},
   "outputs": [
    {
     "name": "stdout",
     "output_type": "stream",
     "text": [
      "This is special featurne \n",
      "This is function 1 \n"
     ]
    }
   ],
   "source": [
    "func1()"
   ]
  }
 ],
 "metadata": {
  "kernelspec": {
   "display_name": "Python 3",
   "language": "python",
   "name": "python3"
  },
  "language_info": {
   "codemirror_mode": {
    "name": "ipython",
    "version": 3
   },
   "file_extension": ".py",
   "mimetype": "text/x-python",
   "name": "python",
   "nbconvert_exporter": "python",
   "pygments_lexer": "ipython3",
   "version": "3.11.7"
  }
 },
 "nbformat": 4,
 "nbformat_minor": 2
}
