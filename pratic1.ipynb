{
 "cells": [
  {
   "cell_type": "markdown",
   "metadata": {},
   "source": [
    "Q-1 Write a fucntion to return . Ture if the first and last number of given list is same . if number are different then return false "
   ]
  },
  {
   "cell_type": "code",
   "execution_count": 3,
   "metadata": {},
   "outputs": [
    {
     "name": "stdout",
     "output_type": "stream",
     "text": [
      "Enter the item of list \n",
      "[1, 2, 3, 4, 5]\n",
      "False\n"
     ]
    }
   ],
   "source": [
    "def check_equal(l):\n",
    "    return l[0]== l[-1]\n",
    "\n",
    "\n",
    "n = int(input(\"Enter the size of list \"))\n",
    "print(\"Enter the item of list \") \n",
    "l1 = [ int(input()) for i in range(n)] # using list comprihension take element of list \n",
    "print(l1)\n",
    "print(check_equal(l1))"
   ]
  },
  {
   "cell_type": "markdown",
   "metadata": {},
   "source": [
    "Q :2     Give two integer number return their product only if the product is equal to or lower than 1000,else return their sum "
   ]
  },
  {
   "cell_type": "code",
   "execution_count": 8,
   "metadata": {},
   "outputs": [
    {
     "name": "stdout",
     "output_type": "stream",
     "text": [
      " THE NUMBER ARE 34 AND 34 : -  68\n"
     ]
    }
   ],
   "source": [
    "n1 = int(input(\"Enter the fisrt number :-\"))\n",
    "n2 = int(input(\"Enter the second number\"))\n",
    "\n",
    "def oper(a1,a2):\n",
    "    if a1*a2 <= 1000:\n",
    "        return a1*a2\n",
    "    else :\n",
    "        return a1 + a2\n",
    "    \n",
    "\n",
    "print( \" THE NUMBER ARE {} AND {} : - \".format(n1,n2),oper(n1,n2))"
   ]
  },
  {
   "cell_type": "markdown",
   "metadata": {},
   "source": [
    "Q:3 write a program to create function func() to accept a variable length of arguments and print their value"
   ]
  },
  {
   "cell_type": "code",
   "execution_count": 9,
   "metadata": {},
   "outputs": [
    {
     "name": "stdout",
     "output_type": "stream",
     "text": [
      "Enter the number \n",
      "('1', '2', '3', '4', '56')\n"
     ]
    }
   ],
   "source": [
    "def func(*args):\n",
    "    print(args)\n",
    "\n",
    "n = int(input(\"Enter  the size  \"))\n",
    "print(\"Enter the number \")\n",
    "l1 =  [ input() for i in range(n)]\n",
    "func(*l1)  # unpack the all element "
   ]
  }
 ],
 "metadata": {
  "kernelspec": {
   "display_name": "Python 3",
   "language": "python",
   "name": "python3"
  },
  "language_info": {
   "codemirror_mode": {
    "name": "ipython",
    "version": 3
   },
   "file_extension": ".py",
   "mimetype": "text/x-python",
   "name": "python",
   "nbconvert_exporter": "python",
   "pygments_lexer": "ipython3",
   "version": "3.11.6"
  }
 },
 "nbformat": 4,
 "nbformat_minor": 2
}
