{
 "cells": [
  {
   "cell_type": "code",
   "execution_count": 7,
   "metadata": {},
   "outputs": [
    {
     "data": {
      "text/plain": [
       "{'name': 'Amit Kushwaha',\n",
       " 'Age': '18',\n",
       " 'FAv_song': \"[kahe na pyar h , 'tum hujm sath ho ' kyas asie ho ']\",\n",
       " 'hobii': 'basketball'}"
      ]
     },
     "execution_count": 7,
     "metadata": {},
     "output_type": "execute_result"
    }
   ],
   "source": [
    "# store data from user input \n",
    "def store_data(No):\n",
    "    arr = {}\n",
    "    for i in range(No):\n",
    "        a = input(f\"Enter the {i} keys \")\n",
    "        arr[a] = input(f\"Enter the {i} values\")\n",
    "    \n",
    "    return arr\n",
    "\n",
    "        \n",
    "\n",
    "dic = int(input(\"enter the no. of keys \"))\n",
    "print(store_data(dic))\n",
    "\n"
   ]
  }
 ],
 "metadata": {
  "kernelspec": {
   "display_name": "Python 3",
   "language": "python",
   "name": "python3"
  },
  "language_info": {
   "codemirror_mode": {
    "name": "ipython",
    "version": 3
   },
   "file_extension": ".py",
   "mimetype": "text/x-python",
   "name": "python",
   "nbconvert_exporter": "python",
   "pygments_lexer": "ipython3",
   "version": "3.11.6"
  }
 },
 "nbformat": 4,
 "nbformat_minor": 2
}
