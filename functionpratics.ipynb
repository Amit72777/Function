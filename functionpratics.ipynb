{
 "cells": [
  {
   "cell_type": "code",
   "execution_count": 1,
   "metadata": {},
   "outputs": [],
   "source": [
    "# Find the last character in a string  \n",
    "def last_char(a):\n",
    "    return a[-1]\n",
    "\n",
    "str = input(\"Enter the String \")\n",
    "last = last_char(str)\n",
    "print(\"The last character in a string is :\",last)"
   ]
  },
  {
   "cell_type": "code",
   "execution_count": null,
   "metadata": {},
   "outputs": [],
   "source": [
    "# Find even or odd number \n",
    "def  odd_even(x):\n",
    "    if x%2 == 0:\n",
    "        return \"this number is even \"\n",
    "    return \"This Number is odd \"\n",
    "num = int(input(\"Enter the Number is :\"))\n",
    "a = odd_even(num)\n",
    "print(a)"
   ]
  },
  {
   "cell_type": "markdown",
   "metadata": {},
   "source": [
    "def detail(First_name,Last_name = 'Unkonwn',age = None):\n",
    "    print(f\" the First  name is {First_name}\" )\n",
    "    print(f\" the Last  name is {Last_name}\" )    \n",
    "    print(f\" the age is {age}\" )    \n",
    "    \n",
    "detail(\"Amit\" ,None,34)"
   ]
  },
  {
   "cell_type": "code",
   "execution_count": null,
   "metadata": {},
   "outputs": [],
   "source": [
    "# find gretest number between three number \n",
    "def greatest(n1,n2,n3):\n",
    "    if n1>n2:\n",
    "        if n1>n3:\n",
    "            return n1\n",
    "    else :\n",
    "        if n2>n3:\n",
    "            return n2 \n",
    "    return n3\n",
    "    \n",
    "num1 = int(input(\"Enter the Fist number:\"))\n",
    "num2 = int(input(\"Enter the Second  number:\"))\n",
    "num3 = int(input(\"Enter the third  number:\"))\n",
    "\n",
    "bigger = greatest(num1,num2,num3)\n",
    "print(\"The grestest number is \",bigger)"
   ]
  },
  {
   "cell_type": "code",
   "execution_count": null,
   "metadata": {},
   "outputs": [],
   "source": [
    "# pallindrom string \n",
    "def palindrome(s1):\n",
    "    if (s1[::-1] == s1): # string slcing \n",
    "        print(\"This string '{}' is Palindrome\".format(s1))\n",
    "        return \n",
    "    print(\"This string is not pallindorm \")\n",
    "    print(temp)\n",
    "str =  input(\"Enter the String :\")\n",
    "palindrome(str)"
   ]
  },
  {
   "cell_type": "code",
   "execution_count": null,
   "metadata": {},
   "outputs": [],
   "source": [
    "#find greter number between two number \n",
    "def greater(n1,n2):\n",
    "    if n1>n2:\n",
    "        print(f\"Nubmer {n1} is greater \")\n",
    "    else :\n",
    "        print(f\"Numbere {n2} is greater \")\n",
    "        \n",
    "\n",
    "num1,num2 = input(\"Enter the fist and second number \").split()\n",
    "greater(num1,num2)"
   ]
  }
 ],
 "metadata": {
  "kernelspec": {
   "display_name": "Python 3",
   "language": "python",
   "name": "python3"
  },
  "language_info": {
   "codemirror_mode": {
    "name": "ipython",
    "version": 3
   },
   "file_extension": ".py",
   "mimetype": "text/x-python",
   "name": "python",
   "nbconvert_exporter": "python",
   "pygments_lexer": "ipython3",
   "version": "3.11.6"
  }
 },
 "nbformat": 4,
 "nbformat_minor": 2
}
